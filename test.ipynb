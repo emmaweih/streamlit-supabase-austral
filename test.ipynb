{
 "cells": [
  {
   "cell_type": "markdown",
   "metadata": {},
   "source": [
    "# Test Functions\n",
    "\n",
    "This notebook can be used to test the functions in `functions.py`."
   ]
  },
  {
   "cell_type": "code",
   "execution_count": 2,
   "metadata": {},
   "outputs": [
    {
     "name": "stdout",
     "output_type": "stream",
     "text": [
      "Successfully connected to Supabase database.\n",
      "Successfully imported connect_to_supabase from functions.py\n"
     ]
    }
   ],
   "source": [
    "# Import the function from functions.py\n",
    "try:\n",
    "    from functions import connect_to_supabase\n",
    "    print('Successfully imported connect_to_supabase from functions.py')\n",
    "except ImportError as e:\n",
    "    print(f'Error importing function: {e}')\n",
    "    print('Make sure functions.py is in the same directory or in the Python path.')"
   ]
  },
  {
   "cell_type": "code",
   "execution_count": 3,
   "id": "955988ad",
   "metadata": {},
   "outputs": [
    {
     "data": {
      "text/plain": [
       "True"
      ]
     },
     "execution_count": 3,
     "metadata": {},
     "output_type": "execute_result"
    }
   ],
   "source": [
    "from dotenv import load_dotenv\n",
    "\n",
    "load_dotenv()"
   ]
  },
  {
   "cell_type": "code",
   "execution_count": 4,
   "metadata": {},
   "outputs": [
    {
     "name": "stdout",
     "output_type": "stream",
     "text": [
      "Successfully connected to Supabase database.\n"
     ]
    }
   ],
   "source": [
    "# Call the connect_to_supabase function\n",
    "\n",
    "supabase_client = connect_to_supabase()"
   ]
  },
  {
   "cell_type": "code",
   "execution_count": null,
   "id": "b23d9329",
   "metadata": {},
   "outputs": [],
   "source": [
    "# Import the function from functions.py\n",
    "try:\n",
    "    from functions import execute_query\n",
    "    print('Successfully imported execute_query from functions.py')\n",
    "except ImportError as e:\n",
    "    print(f'Error importing function: {e}')\n",
    "    print('Make sure functions.py is in the same directory or in the Python path.')"
   ]
  },
  {
   "cell_type": "code",
   "execution_count": 5,
   "id": "e90c2198",
   "metadata": {},
   "outputs": [],
   "source": [
    "query = \"SELECT * FROM empleado\""
   ]
  },
  {
   "cell_type": "code",
   "execution_count": null,
   "id": "4391fa5b",
   "metadata": {},
   "outputs": [],
   "source": [
    "execute_query(query)"
   ]
  },
  {
   "cell_type": "code",
   "execution_count": 1,
   "id": "41830197",
   "metadata": {},
   "outputs": [
    {
     "name": "stdout",
     "output_type": "stream",
     "text": [
      "Successfully connected to Supabase database.\n",
      "Successfully imported connect_to_supabase from functions.py\n"
     ]
    }
   ],
   "source": [
    "# Import the function from functions.py\n",
    "try:\n",
    "    from functions import registrar_usuario\n",
    "    print('Successfully imported connect_to_supabase from functions.py')\n",
    "except ImportError as e:\n",
    "    print(f'Error importing function: {e}')\n",
    "    print('Make sure functions.py is in the same directory or in the Python path.')"
   ]
  },
  {
   "cell_type": "code",
   "execution_count": 2,
   "id": "bfe4e35c",
   "metadata": {},
   "outputs": [],
   "source": [
    "# Datos de prueba\n",
    "dni = \"12345678\"\n",
    "apellido = \"García\"\n",
    "nombre = \"María\"\n",
    "fecha_nac = \"1990-05-15\"\n",
    "sexo = \"F\"\n",
    "direccion = \"Av. Corrientes 1234\"\n",
    "codigo_postal = \"1043\"\n",
    "obra_social = \"OSDE\"\n",
    "correo = \"maria.garcia@email.com\"\n",
    "contraseña = \"miPassword123\""
   ]
  },
  {
   "cell_type": "code",
   "execution_count": 3,
   "id": "a6563f99",
   "metadata": {},
   "outputs": [
    {
     "name": "stdout",
     "output_type": "stream",
     "text": [
      "Successfully connected to Supabase database.\n",
      "Usuario María García registrado exitosamente.\n"
     ]
    },
    {
     "data": {
      "text/plain": [
       "True"
      ]
     },
     "execution_count": 3,
     "metadata": {},
     "output_type": "execute_result"
    }
   ],
   "source": [
    "registrar_usuario(dni, apellido, nombre, fecha_nac, sexo, direccion, codigo_postal, obra_social, correo, contraseña)"
   ]
  }
 ],
 "metadata": {
  "kernelspec": {
   "display_name": "Python 3",
   "language": "python",
   "name": "python3"
  },
  "language_info": {
   "codemirror_mode": {
    "name": "ipython",
    "version": 3
   },
   "file_extension": ".py",
   "mimetype": "text/x-python",
   "name": "python",
   "nbconvert_exporter": "python",
   "pygments_lexer": "ipython3",
   "version": "3.13.3"
  }
 },
 "nbformat": 4,
 "nbformat_minor": 5
}
